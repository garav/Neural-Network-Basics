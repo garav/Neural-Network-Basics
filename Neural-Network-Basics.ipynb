{
 "cells": [
  {
   "cell_type": "code",
   "execution_count": 11,
   "metadata": {},
   "outputs": [],
   "source": [
    "import pandas as pd\n",
    "import numpy as np\n",
    "def sigmoid(x):\n",
    "    return 1/(1 + np.exp(-x))\n",
    "def dersigmoid(z):\n",
    "    return z * (1-z)\n",
    "class NeuralNetwork:\n",
    "    def __init__(self,x,y):\n",
    "        self.input = x\n",
    "        self.weight2 = np.random.rand(4,1)\n",
    "        self.weight1 = np.random.rand(self.input.shape[1],4)\n",
    "        self.y1 = 1\n",
    "        self.y = y\n",
    "        \n",
    "#         self.weight1 = np.array([[1,4,7],[2,5,8],[3,6,9]])\n",
    "        \n",
    "    \n",
    "    def feedforward(self):\n",
    "\n",
    "        self.a1 = sigmoid(np.dot(self.input, self.weight1))     \n",
    "        self.y1 = sigmoid(np.dot(self.a1, self.weight2))\n",
    "        \n",
    "    \n",
    "    def backpropogation(self):\n",
    "        d2 = np.dot(self.a1.T, dersigmoid(self.y1) * (2*(self.y - self.y1)))\n",
    "        d1 = np.dot(self.input.T,  dersigmoid(self.a1) * (np.dot(dersigmoid(self.y1) * (2*(self.y - self.y1)), self.weight2.T)))\n",
    "        self.weight1 += d1\n",
    "        self.weight2 += d2\n",
    "        \n",
    "        \n",
    "        "
   ]
  },
  {
   "cell_type": "code",
   "execution_count": 15,
   "metadata": {},
   "outputs": [
    {
     "name": "stdout",
     "output_type": "stream",
     "text": [
      "[[0]\n",
      " [1]\n",
      " [1]\n",
      " [0]]\n",
      "[[0.01330667]\n",
      " [0.96194339]\n",
      " [0.96399053]\n",
      " [0.04303074]]\n"
     ]
    }
   ],
   "source": [
    "\n",
    "if (__name__ == \"__main__\"):\n",
    "    \n",
    "    X = np.array([[0,0,1],\n",
    "                  [0,1,1],\n",
    "                  [1,0,1],\n",
    "                  [1,1,1]])\n",
    "    y = np.array([[0],[1],[1],[0]])\n",
    "    \n",
    "    nn = NeuralNetwork(X,y)\n",
    "    \n",
    "    for i in range(1000):\n",
    "        nn.feedforward()\n",
    "        nn.backpropogation()\n",
    "    print(y)\n",
    "    print(nn.y1)\n",
    "    "
   ]
  },
  {
   "cell_type": "code",
   "execution_count": null,
   "metadata": {},
   "outputs": [],
   "source": []
  }
 ],
 "metadata": {
  "kernelspec": {
   "display_name": "Python 3",
   "language": "python",
   "name": "python3"
  },
  "language_info": {
   "codemirror_mode": {
    "name": "ipython",
    "version": 3
   },
   "file_extension": ".py",
   "mimetype": "text/x-python",
   "name": "python",
   "nbconvert_exporter": "python",
   "pygments_lexer": "ipython3",
   "version": "3.7.0"
  }
 },
 "nbformat": 4,
 "nbformat_minor": 2
}
