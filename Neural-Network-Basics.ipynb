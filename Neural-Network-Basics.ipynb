{
 "cells": [
  {
   "cell_type": "code",
   "execution_count": 69,
   "metadata": {},
   "outputs": [],
   "source": [
    "import pandas as pd\n",
    "import numpy as np\n",
    "def sigmoid(x):\n",
    "    return 1/(1 + np.exp(-x))\n",
    "class NeuralNetwork:\n",
    "    def __init__(self,x,y):\n",
    "        self.input = x\n",
    "        self.weight2 = np.random.rand(4,1)\n",
    "        self.weight1 = np.random.rand(self.input.shape[1],4)\n",
    "        \n",
    "#         self.weight1 = np.array([[1,4,7],[2,5,8],[3,6,9]])\n",
    "        \n",
    "    \n",
    "    def feedforward(self):\n",
    "\n",
    "        a1 = sigmoid(np.dot(self.input, self.weight1))     \n",
    "        y1 = sigmoid(np.dot(a1, self.weight2))\n",
    "        "
   ]
  },
  {
   "cell_type": "code",
   "execution_count": 70,
   "metadata": {},
   "outputs": [
    {
     "name": "stdout",
     "output_type": "stream",
     "text": [
      "[[0.84194147]\n",
      " [0.87093947]\n",
      " [0.87884836]\n",
      " [0.89529863]]\n"
     ]
    }
   ],
   "source": [
    "\n",
    "if (__name__ == \"__main__\"):\n",
    "    \n",
    "    X = np.array([[0,0,1],\n",
    "                  [0,1,1],\n",
    "                  [1,0,1],\n",
    "                  [1,1,1]])\n",
    "    y = np.array([[0],[1],[1],[0]])\n",
    "    \n",
    "    nn = NeuralNetwork(X,y)\n",
    "    nn.feedforward()\n",
    "    "
   ]
  },
  {
   "cell_type": "code",
   "execution_count": null,
   "metadata": {},
   "outputs": [],
   "source": []
  }
 ],
 "metadata": {
  "kernelspec": {
   "display_name": "Python 3",
   "language": "python",
   "name": "python3"
  },
  "language_info": {
   "codemirror_mode": {
    "name": "ipython",
    "version": 3
   },
   "file_extension": ".py",
   "mimetype": "text/x-python",
   "name": "python",
   "nbconvert_exporter": "python",
   "pygments_lexer": "ipython3",
   "version": "3.7.0"
  }
 },
 "nbformat": 4,
 "nbformat_minor": 2
}
